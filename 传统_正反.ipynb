{
  "nbformat": 4,
  "nbformat_minor": 0,
  "metadata": {
    "colab": {
      "name": "传统-正反.ipynb",
      "provenance": [],
      "collapsed_sections": [],
      "authorship_tag": "ABX9TyO0342WZQd3n/Fe8sCgPrsQ",
      "include_colab_link": true
    },
    "kernelspec": {
      "name": "python3",
      "display_name": "Python 3"
    },
    "language_info": {
      "name": "python"
    },
    "accelerator": "GPU"
  },
  "cells": [
    {
      "cell_type": "markdown",
      "metadata": {
        "id": "view-in-github",
        "colab_type": "text"
      },
      "source": [
        "<a href=\"https://colab.research.google.com/github/lxp521125/cnncode/blob/main/%E4%BC%A0%E7%BB%9F_%E6%AD%A3%E5%8F%8D.ipynb\" target=\"_parent\"><img src=\"https://colab.research.google.com/assets/colab-badge.svg\" alt=\"Open In Colab\"/></a>"
      ]
    },
    {
      "cell_type": "code",
      "metadata": {
        "colab": {
          "base_uri": "https://localhost:8080/",
          "height": 317
        },
        "id": "FPbkyY534MpT",
        "outputId": "6113bf9d-e3a0-41db-f045-c4004f637f7e"
      },
      "source": [
        "import tensorflow as tf\n",
        "mnist = tf.keras.datasets.mnist.load_data()\n",
        "(x,y),(x1,y1) =  mnist\n",
        "\n",
        "import matplotlib.pyplot as plt\n",
        "plt.imshow(x[1], cmap=\"binary\")\n",
        "plt.show()\n"
      ],
      "execution_count": 2,
      "outputs": [
        {
          "output_type": "stream",
          "name": "stdout",
          "text": [
            "Downloading data from https://storage.googleapis.com/tensorflow/tf-keras-datasets/mnist.npz\n",
            "11493376/11490434 [==============================] - 0s 0us/step\n",
            "11501568/11490434 [==============================] - 0s 0us/step\n"
          ]
        },
        {
          "output_type": "display_data",
          "data": {
            "image/png": "[encoded data removed]",
            "text/plain": [
              "<Figure size 432x288 with 1 Axes>"
            ]
          },
          "metadata": {
            "needs_background": "light"
          }
        }
      ]
    },
    {
      "cell_type": "code",
      "metadata": {
        "colab": {
          "base_uri": "https://localhost:8080/"
        },
        "id": "CpBescRQ6eiH",
        "outputId": "a7905db8-bed2-4f9d-8290-5d500675ae30"
      },
      "source": [
        "tf.config.experimental.list_physical_devices('GPU')"
      ],
      "execution_count": 3,
      "outputs": [
        {
          "output_type": "execute_result",
          "data": {
            "text/plain": [
              "[PhysicalDevice(name='/physical_device:GPU:0', device_type='GPU')]"
            ]
          },
          "metadata": {},
          "execution_count": 3
        }
      ]
    },
    {
      "cell_type": "code",
      "metadata": {
        "colab": {
          "base_uri": "https://localhost:8080/"
        },
        "id": "ZrypgExK4akf",
        "outputId": "c23b3aab-a928-4ef1-b6cc-1ccd697c60fd"
      },
      "source": [
        "\n",
        "x = tf.concat([x, 255 - x],axis=0)\n",
        "y = tf.concat([y, y],axis=0)\n",
        "\n",
        "x1 = tf.concat([x1, 255 - x1],axis=0)\n",
        "y1 = tf.concat([y1, y1],axis=0)\n",
        "\n",
        "print(x.shape)\n",
        "print(y.shape)\n"
      ],
      "execution_count": 4,
      "outputs": [
        {
          "output_type": "stream",
          "name": "stdout",
          "text": [
            "(120000, 28, 28)\n",
            "(120000,)\n"
          ]
        }
      ]
    },
    {
      "cell_type": "code",
      "metadata": {
        "colab": {
          "base_uri": "https://localhost:8080/"
        },
        "id": "3JsHZQxP4dcK",
        "outputId": "0b948ace-347e-45ba-a55f-80dd04c8b81f"
      },
      "source": [
        "\n",
        "model = tf.keras.models.Sequential([\n",
        "  tf.keras.layers.Flatten(input_shape=(28, 28)),\n",
        "  tf.keras.layers.Dense(128, activation='relu'),\n",
        "  tf.keras.layers.Dropout(0.01),\n",
        "  tf.keras.layers.Dense(10, activation='softmax')\n",
        "])\n",
        "\n",
        "model.compile(optimizer='adam',\n",
        "              loss='sparse_categorical_crossentropy',\n",
        "              metrics=['accuracy'])\n",
        "model.summary()\n"
      ],
      "execution_count": 5,
      "outputs": [
        {
          "output_type": "stream",
          "name": "stdout",
          "text": [
            "Model: \"sequential\"\n",
            "_________________________________________________________________\n",
            "Layer (type)                 Output Shape              Param #   \n",
            "=================================================================\n",
            "flatten (Flatten)            (None, 784)               0         \n",
            "_________________________________________________________________\n",
            "dense (Dense)                (None, 128)               100480    \n",
            "_________________________________________________________________\n",
            "dropout (Dropout)            (None, 128)               0         \n",
            "_________________________________________________________________\n",
            "dense_1 (Dense)              (None, 10)                1290      \n",
            "=================================================================\n",
            "Total params: 101,770\n",
            "Trainable params: 101,770\n",
            "Non-trainable params: 0\n",
            "_________________________________________________________________\n"
          ]
        }
      ]
    },
    {
      "cell_type": "code",
      "metadata": {
        "colab": {
          "base_uri": "https://localhost:8080/"
        },
        "id": "4AEJr5sW4fWt",
        "outputId": "22069da3-9ee9-45ec-ea1b-41f445d3c4a0"
      },
      "source": [
        "tf.debugging.set_log_device_placement(True)\n",
        "model.fit(x, y, epochs=50)\n",
        "\n",
        "model.evaluate(x1,  y1, verbose=2)"
      ],
      "execution_count": 6,
      "outputs": [
        {
          "output_type": "stream",
          "name": "stdout",
          "text": [
            "Epoch 1/50\n",
            "3750/3750 [==============================] - 11s 2ms/step - loss: 3.4487 - accuracy: 0.5155\n",
            "Epoch 2/50\n",
            "3750/3750 [==============================] - 8s 2ms/step - loss: 1.1585 - accuracy: 0.5700\n",
            "Epoch 3/50\n",
            "3750/3750 [==============================] - 8s 2ms/step - loss: 1.0878 - accuracy: 0.5840\n",
            "Epoch 4/50\n",
            "3750/3750 [==============================] - 8s 2ms/step - loss: 1.0622 - accuracy: 0.5953\n",
            "Epoch 5/50\n",
            "3750/3750 [==============================] - 8s 2ms/step - loss: 1.0446 - accuracy: 0.5973\n",
            "Epoch 6/50\n",
            "3750/3750 [==============================] - 8s 2ms/step - loss: 1.0368 - accuracy: 0.5991\n",
            "Epoch 7/50\n",
            "3750/3750 [==============================] - 8s 2ms/step - loss: 1.0275 - accuracy: 0.6015\n",
            "Epoch 8/50\n",
            "3750/3750 [==============================] - 8s 2ms/step - loss: 1.0235 - accuracy: 0.6025\n",
            "Epoch 9/50\n",
            "3750/3750 [==============================] - 9s 2ms/step - loss: 1.0143 - accuracy: 0.6040\n",
            "Epoch 10/50\n",
            "3750/3750 [==============================] - 8s 2ms/step - loss: 1.0161 - accuracy: 0.6053\n",
            "Epoch 11/50\n",
            "3750/3750 [==============================] - 8s 2ms/step - loss: 1.0074 - accuracy: 0.6067\n",
            "Epoch 12/50\n",
            "3750/3750 [==============================] - 8s 2ms/step - loss: 1.0052 - accuracy: 0.6070\n",
            "Epoch 13/50\n",
            "3750/3750 [==============================] - 8s 2ms/step - loss: 1.0066 - accuracy: 0.6079\n",
            "Epoch 14/50\n",
            "3750/3750 [==============================] - 8s 2ms/step - loss: 1.0052 - accuracy: 0.6104\n",
            "Epoch 15/50\n",
            "3750/3750 [==============================] - 8s 2ms/step - loss: 0.9982 - accuracy: 0.6095\n",
            "Epoch 16/50\n",
            "3750/3750 [==============================] - 8s 2ms/step - loss: 0.9945 - accuracy: 0.6109\n",
            "Epoch 17/50\n",
            "3750/3750 [==============================] - 8s 2ms/step - loss: 0.9977 - accuracy: 0.6123\n",
            "Epoch 18/50\n",
            "3750/3750 [==============================] - 8s 2ms/step - loss: 0.9984 - accuracy: 0.6120\n",
            "Epoch 19/50\n",
            "3750/3750 [==============================] - 8s 2ms/step - loss: 0.9941 - accuracy: 0.6136\n",
            "Epoch 20/50\n",
            "3750/3750 [==============================] - 8s 2ms/step - loss: 0.9932 - accuracy: 0.6147\n",
            "Epoch 21/50\n",
            "3750/3750 [==============================] - 8s 2ms/step - loss: 0.9918 - accuracy: 0.6140\n",
            "Epoch 22/50\n",
            "3750/3750 [==============================] - 8s 2ms/step - loss: 0.9926 - accuracy: 0.6155\n",
            "Epoch 23/50\n",
            "3750/3750 [==============================] - 8s 2ms/step - loss: 0.9910 - accuracy: 0.6160\n",
            "Epoch 24/50\n",
            "3750/3750 [==============================] - 8s 2ms/step - loss: 0.9925 - accuracy: 0.6156\n",
            "Epoch 25/50\n",
            "3750/3750 [==============================] - 8s 2ms/step - loss: 0.9860 - accuracy: 0.6169\n",
            "Epoch 26/50\n",
            "3750/3750 [==============================] - 8s 2ms/step - loss: 0.9887 - accuracy: 0.6179\n",
            "Epoch 27/50\n",
            "3750/3750 [==============================] - 8s 2ms/step - loss: 0.9852 - accuracy: 0.6165\n",
            "Epoch 28/50\n",
            "3750/3750 [==============================] - 8s 2ms/step - loss: 0.9817 - accuracy: 0.6173\n",
            "Epoch 29/50\n",
            "3750/3750 [==============================] - 8s 2ms/step - loss: 0.9834 - accuracy: 0.6184\n",
            "Epoch 30/50\n",
            "3750/3750 [==============================] - 8s 2ms/step - loss: 0.9868 - accuracy: 0.6175\n",
            "Epoch 31/50\n",
            "3750/3750 [==============================] - 8s 2ms/step - loss: 0.9833 - accuracy: 0.6185\n",
            "Epoch 32/50\n",
            "3750/3750 [==============================] - 8s 2ms/step - loss: 0.9832 - accuracy: 0.6172\n",
            "Epoch 33/50\n",
            "3750/3750 [==============================] - 8s 2ms/step - loss: 0.9767 - accuracy: 0.6192\n",
            "Epoch 34/50\n",
            "3750/3750 [==============================] - 8s 2ms/step - loss: 0.9843 - accuracy: 0.6177\n",
            "Epoch 35/50\n",
            "3750/3750 [==============================] - 8s 2ms/step - loss: 0.9786 - accuracy: 0.6192\n",
            "Epoch 36/50\n",
            "3750/3750 [==============================] - 8s 2ms/step - loss: 0.9791 - accuracy: 0.6190\n",
            "Epoch 37/50\n",
            "3750/3750 [==============================] - 9s 2ms/step - loss: 0.9769 - accuracy: 0.6188\n",
            "Epoch 38/50\n",
            "3750/3750 [==============================] - 8s 2ms/step - loss: 0.9742 - accuracy: 0.6179\n",
            "Epoch 39/50\n",
            "3750/3750 [==============================] - 8s 2ms/step - loss: 0.9794 - accuracy: 0.6185\n",
            "Epoch 40/50\n",
            "3750/3750 [==============================] - 8s 2ms/step - loss: 0.9760 - accuracy: 0.6186\n",
            "Epoch 41/50\n",
            "3750/3750 [==============================] - 8s 2ms/step - loss: 0.9769 - accuracy: 0.6185\n",
            "Epoch 42/50\n",
            "3750/3750 [==============================] - 8s 2ms/step - loss: 0.9762 - accuracy: 0.6189\n",
            "Epoch 43/50\n",
            "3750/3750 [==============================] - 8s 2ms/step - loss: 0.9721 - accuracy: 0.6201\n",
            "Epoch 44/50\n",
            "3750/3750 [==============================] - 8s 2ms/step - loss: 0.9770 - accuracy: 0.6198\n",
            "Epoch 45/50\n",
            "3750/3750 [==============================] - 9s 2ms/step - loss: 0.9726 - accuracy: 0.6207\n",
            "Epoch 46/50\n",
            "3750/3750 [==============================] - 9s 2ms/step - loss: 0.9731 - accuracy: 0.6193\n",
            "Epoch 47/50\n",
            "3750/3750 [==============================] - 8s 2ms/step - loss: 0.9747 - accuracy: 0.6208\n",
            "Epoch 48/50\n",
            "3750/3750 [==============================] - 9s 2ms/step - loss: 0.9769 - accuracy: 0.6197\n",
            "Epoch 49/50\n",
            "3750/3750 [==============================] - 8s 2ms/step - loss: 0.9727 - accuracy: 0.6189\n",
            "Epoch 50/50\n",
            "3750/3750 [==============================] - 9s 2ms/step - loss: 0.9676 - accuracy: 0.6209\n",
            "625/625 - 1s - loss: 1.2428 - accuracy: 0.6090\n"
          ]
        },
        {
          "output_type": "execute_result",
          "data": {
            "text/plain": [
              "[1.2428058385849, 0.6090499758720398]"
            ]
          },
          "metadata": {},
          "execution_count": 6
        }
      ]
    }
  ]
}